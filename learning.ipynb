{
 "cells": [
  {
   "cell_type": "code",
   "execution_count": 10,
   "metadata": {},
   "outputs": [],
   "source": [
    "import numpy as np\n",
    "from pandas import DataFrame,Series\n",
    "import pandas as pd\n",
    "import pdir,requests\n",
    "from sklearn import linear_model as lm"
   ]
  },
  {
   "cell_type": "code",
   "execution_count": 4,
   "metadata": {
    "collapsed": true
   },
   "outputs": [],
   "source": [
    "clf = lm.LinearRegression()"
   ]
  },
  {
   "cell_type": "code",
   "execution_count": 5,
   "metadata": {
    "collapsed": true
   },
   "outputs": [],
   "source": [
    "x = [[0,0],[1,1],[2,2]]\n",
    "y = [0,1,2]"
   ]
  },
  {
   "cell_type": "code",
   "execution_count": 6,
   "metadata": {},
   "outputs": [
    {
     "data": {
      "text/plain": [
       "LinearRegression(copy_X=True, fit_intercept=True, n_jobs=1, normalize=False)"
      ]
     },
     "execution_count": 6,
     "metadata": {},
     "output_type": "execute_result"
    }
   ],
   "source": [
    "clf.fit(x,y)"
   ]
  },
  {
   "cell_type": "code",
   "execution_count": 8,
   "metadata": {},
   "outputs": [
    {
     "name": "stdout",
     "output_type": "stream",
     "text": [
      "[ 0.5  0.5]\n",
      "1.11022302463e-16\n"
     ]
    }
   ],
   "source": [
    "print(clf.coef_)\n",
    "print(clf.intercept_)"
   ]
  },
  {
   "cell_type": "code",
   "execution_count": 11,
   "metadata": {},
   "outputs": [
    {
     "data": {
      "text/plain": [
       "\u001b[0;33mmodule attribute:\u001b[0m\n",
       "    \u001b[0;36m__cached__\u001b[0m\u001b[1;30m, \u001b[0m\u001b[0;36m__file__\u001b[0m\u001b[1;30m, \u001b[0m\u001b[0;36m__loader__\u001b[0m\u001b[1;30m, \u001b[0m\u001b[0;36m__name__\u001b[0m\u001b[1;30m, \u001b[0m\u001b[0;36m__package__\u001b[0m\u001b[1;30m, \u001b[0m\u001b[0;36m__path__\u001b[0m\u001b[1;30m, \u001b[0m\u001b[0;36m__spec__\u001b[0m\n",
       "\u001b[0;33mother:\u001b[0m\n",
       "    \u001b[0;36m__all__\u001b[0m\u001b[1;30m, \u001b[0m\u001b[0;36m__builtins__\u001b[0m\u001b[1;30m, \u001b[0m\u001b[0;36mbase\u001b[0m\u001b[1;30m, \u001b[0m\u001b[0;36mbayes\u001b[0m\u001b[1;30m, \u001b[0m\u001b[0;36mcd_fast\u001b[0m\u001b[1;30m, \u001b[0m\u001b[0;36mcoordinate_descent\u001b[0m\u001b[1;30m, \u001b[0m\u001b[0;36mhuber\u001b[0m\u001b[1;30m, \u001b[0m\u001b[0;36mleast_angle\u001b[0m\u001b[1;30m, \u001b[0m\u001b[0;36mlogistic\u001b[0m\u001b[1;30m, \u001b[0m\u001b[0;36momp\u001b[0m\u001b[1;30m, \u001b[0m\u001b[0;36mpassive_aggressive\u001b[0m\u001b[1;30m, \u001b[0m\u001b[0;36mperceptron\u001b[0m\u001b[1;30m, \u001b[0m\u001b[0;36mrandomized_l1\u001b[0m\u001b[1;30m, \u001b[0m\u001b[0;36mransac\u001b[0m\u001b[1;30m, \u001b[0m\u001b[0;36mridge\u001b[0m\u001b[1;30m, \u001b[0m\u001b[0;36msag\u001b[0m\u001b[1;30m, \u001b[0m\u001b[0;36msag_fast\u001b[0m\u001b[1;30m, \u001b[0m\u001b[0;36msgd_fast\u001b[0m\u001b[1;30m, \u001b[0m\u001b[0;36mstochastic_gradient\u001b[0m\u001b[1;30m, \u001b[0m\u001b[0;36mtheil_sen\u001b[0m\n",
       "\u001b[0;33mspecial attribute:\u001b[0m\n",
       "    \u001b[0;36m__doc__\u001b[0m\n",
       "\u001b[0;33mclass:\u001b[0m\n",
       "    \u001b[0;36mARDRegression:\u001b[0m \u001b[1;30mBayesian ARD regression.\u001b[0m\n",
       "    \u001b[0;36mBayesianRidge:\u001b[0m \u001b[1;30mBayesian ridge regression\u001b[0m\n",
       "    \u001b[0;36mElasticNet:\u001b[0m \u001b[1;30mLinear regression with combined L1 and L2 priors as regularizer.\u001b[0m\n",
       "    \u001b[0;36mElasticNetCV:\u001b[0m \u001b[1;30mElastic Net model with iterative fitting along a regularization path\u001b[0m\n",
       "    \u001b[0;36mHinge:\u001b[0m \u001b[1;30mHinge loss for binary classification tasks with y in {-1,1}\u001b[0m\n",
       "    \u001b[0;36mHuber:\u001b[0m \u001b[1;30mHuber regression loss\u001b[0m\n",
       "    \u001b[0;36mHuberRegressor:\u001b[0m \u001b[1;30mLinear regression model that is robust to outliers.\u001b[0m\n",
       "    \u001b[0;36mLars:\u001b[0m \u001b[1;30mLeast Angle Regression model a.k.a. LAR\u001b[0m\n",
       "    \u001b[0;36mLarsCV:\u001b[0m \u001b[1;30mCross-validated Least Angle Regression model\u001b[0m\n",
       "    \u001b[0;36mLasso:\u001b[0m \u001b[1;30mLinear Model trained with L1 prior as regularizer (aka the Lasso)\u001b[0m\n",
       "    \u001b[0;36mLassoCV:\u001b[0m \u001b[1;30mLasso linear model with iterative fitting along a regularization path\u001b[0m\n",
       "    \u001b[0;36mLassoLars:\u001b[0m \u001b[1;30mLasso model fit with Least Angle Regression a.k.a. Lars\u001b[0m\n",
       "    \u001b[0;36mLassoLarsCV:\u001b[0m \u001b[1;30mCross-validated Lasso, using the LARS algorithm\u001b[0m\n",
       "    \u001b[0;36mLassoLarsIC:\u001b[0m \u001b[1;30mLasso model fit with Lars using BIC or AIC for model selection\u001b[0m\n",
       "    \u001b[0;36mLinearRegression:\u001b[0m \u001b[1;30mOrdinary least squares Linear Regression.\u001b[0m\n",
       "    \u001b[0;36mLog:\u001b[0m \u001b[1;30mLogistic regression loss for binary classification with y in {-1, 1}\u001b[0m\n",
       "    \u001b[0;36mLogisticRegression:\u001b[0m \u001b[1;30mLogistic Regression (aka logit, MaxEnt) classifier.\u001b[0m\n",
       "    \u001b[0;36mLogisticRegressionCV:\u001b[0m \u001b[1;30mLogistic Regression CV (aka logit, MaxEnt) classifier.\u001b[0m\n",
       "    \u001b[0;36mModifiedHuber:\u001b[0m \u001b[1;30mModified Huber loss for binary classification with y in {-1, 1}\u001b[0m\n",
       "    \u001b[0;36mMultiTaskElasticNet:\u001b[0m \u001b[1;30mMulti-task ElasticNet model trained with L1/L2 mixed-norm as regularizer\u001b[0m\n",
       "    \u001b[0;36mMultiTaskElasticNetCV:\u001b[0m \u001b[1;30mMulti-task L1/L2 ElasticNet with built-in cross-validation.\u001b[0m\n",
       "    \u001b[0;36mMultiTaskLasso:\u001b[0m \u001b[1;30mMulti-task Lasso model trained with L1/L2 mixed-norm as regularizer\u001b[0m\n",
       "    \u001b[0;36mMultiTaskLassoCV:\u001b[0m \u001b[1;30mMulti-task L1/L2 Lasso with built-in cross-validation.\u001b[0m\n",
       "    \u001b[0;36mOrthogonalMatchingPursuit:\u001b[0m \u001b[1;30mOrthogonal Matching Pursuit model (OMP)\u001b[0m\n",
       "    \u001b[0;36mOrthogonalMatchingPursuitCV:\u001b[0m \u001b[1;30mCross-validated Orthogonal Matching Pursuit model (OMP)\u001b[0m\n",
       "    \u001b[0;36mPassiveAggressiveClassifier:\u001b[0m \u001b[1;30mPassive Aggressive Classifier\u001b[0m\n",
       "    \u001b[0;36mPassiveAggressiveRegressor:\u001b[0m \u001b[1;30mPassive Aggressive Regressor\u001b[0m\n",
       "    \u001b[0;36mPerceptron:\u001b[0m \u001b[1;30mPerceptron\u001b[0m\n",
       "    \u001b[0;36mRANSACRegressor:\u001b[0m \u001b[1;30mRANSAC (RANdom SAmple Consensus) algorithm.\u001b[0m\n",
       "    \u001b[0;36mRandomizedLasso:\u001b[0m \u001b[1;30mRandomized Lasso.\u001b[0m\n",
       "    \u001b[0;36mRandomizedLogisticRegression:\u001b[0m \u001b[1;30mRandomized Logistic Regression\u001b[0m\n",
       "    \u001b[0;36mRidge:\u001b[0m \u001b[1;30mLinear least squares with l2 regularization.\u001b[0m\n",
       "    \u001b[0;36mRidgeCV:\u001b[0m \u001b[1;30mRidge regression with built-in cross-validation.\u001b[0m\n",
       "    \u001b[0;36mRidgeClassifier:\u001b[0m \u001b[1;30mClassifier using Ridge regression.\u001b[0m\n",
       "    \u001b[0;36mRidgeClassifierCV:\u001b[0m \u001b[1;30mRidge classifier with built-in cross-validation.\u001b[0m\n",
       "    \u001b[0;36mSGDClassifier:\u001b[0m \u001b[1;30mLinear classifiers (SVM, logistic regression, a.o.) with SGD training.\u001b[0m\n",
       "    \u001b[0;36mSGDRegressor:\u001b[0m \u001b[1;30mLinear model fitted by minimizing a regularized empirical loss with SGD\u001b[0m\n",
       "    \u001b[0;36mSquaredLoss:\u001b[0m \u001b[1;30mSquared loss traditional used in linear regression.\u001b[0m\n",
       "    \u001b[0;36mTheilSenRegressor:\u001b[0m \u001b[1;30mTheil-Sen Estimator: robust multivariate regression model.\u001b[0m\n",
       "\u001b[0;33mfunction:\u001b[0m\n",
       "    \u001b[0;36menet_path:\u001b[0m \u001b[1;30mCompute elastic net path with coordinate descent\u001b[0m\n",
       "    \u001b[0;36mlars_path:\u001b[0m \u001b[1;30mCompute Least Angle Regression or Lasso path using LARS algorithm [1]\u001b[0m\n",
       "    \u001b[0;36mlasso_path:\u001b[0m \u001b[1;30mCompute Lasso path with coordinate descent\u001b[0m\n",
       "    \u001b[0;36mlasso_stability_path:\u001b[0m \u001b[1;30mStability path based on randomized Lasso estimates\u001b[0m\n",
       "    \u001b[0;36mlogistic_regression_path:\u001b[0m \u001b[1;30mCompute a Logistic Regression model for a list of regularization\u001b[0m\n",
       "    \u001b[0;36morthogonal_mp:\u001b[0m \u001b[1;30mOrthogonal Matching Pursuit (OMP)\u001b[0m\n",
       "    \u001b[0;36morthogonal_mp_gram:\u001b[0m \u001b[1;30mGram Orthogonal Matching Pursuit (OMP)\u001b[0m\n",
       "    \u001b[0;36mridge_regression:\u001b[0m \u001b[1;30mSolve the ridge equation by the method of normal equations.\u001b[0m"
      ]
     },
     "execution_count": 11,
     "metadata": {},
     "output_type": "execute_result"
    }
   ],
   "source": []
  }
 ],
 "metadata": {
  "kernelspec": {
   "display_name": "Python 3",
   "language": "python",
   "name": "python3"
  },
  "language_info": {
   "codemirror_mode": {
    "name": "ipython",
    "version": 3
   },
   "file_extension": ".py",
   "mimetype": "text/x-python",
   "name": "python",
   "nbconvert_exporter": "python",
   "pygments_lexer": "ipython3",
   "version": "3.6.1"
  }
 },
 "nbformat": 4,
 "nbformat_minor": 2
}
